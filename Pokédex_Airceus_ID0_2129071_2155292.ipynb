{
  "nbformat": 4,
  "nbformat_minor": 0,
  "metadata": {
    "colab": {
      "provenance": []
    },
    "kernelspec": {
      "name": "python3",
      "display_name": "Python 3"
    },
    "language_info": {
      "name": "python"
    }
  },
  "cells": [
    {
      "cell_type": "markdown",
      "source": [
        "---\n",
        "#Import 📥​\n",
        "---"
      ],
      "metadata": {
        "id": "0fy60qDZtY_9"
      }
    },
    {
      "cell_type": "code",
      "source": [
        "#Librerie\n",
        "import os\n",
        "import re\n",
        "import math\n",
        "import random\n",
        "import torch\n",
        "import torch.nn as nn\n",
        "import torch.nn.functional as F\n",
        "from torch.utils.data import Dataset\n",
        "from torch.utils.data import DataLoader\n",
        "from torch.utils.data import random_split\n",
        "from torchvision.utils import make_grid\n",
        "from torchvision.utils import save_image\n",
        "from torch.distributions.uniform import Uniform\n",
        "from torchvision import transforms\n",
        "from torchvision.transforms import ToPILImage\n",
        "import shutil\n",
        "from PIL import Image\n",
        "from PIL import ImageChops\n",
        "import numpy as np\n",
        "from tqdm.notebook import tqdm\n",
        "from tqdm import tqdm\n",
        "import librosa\n",
        "import librosa.display\n",
        "import matplotlib.pyplot as plt\n",
        "from collections import defaultdict\n",
        "from IPython.display import Audio, display\n",
        "\n",
        "from google.colab import drive\n",
        "drive.mount('/content/drive')\n",
        "\n",
        "%cd \"/content/drive/MyDrive/Progetto Machine Learning/Pkmn\""
      ],
      "metadata": {
        "colab": {
          "base_uri": "https://localhost:8080/"
        },
        "id": "kbdZVMGite2l",
        "outputId": "7cd2efd1-1ad9-47a9-f6ab-aa1417881128"
      },
      "execution_count": 1,
      "outputs": [
        {
          "output_type": "stream",
          "name": "stdout",
          "text": [
            "Mounted at /content/drive\n",
            "/content/drive/MyDrive/Progetto Machine Learning/Pkmn\n"
          ]
        }
      ]
    },
    {
      "cell_type": "markdown",
      "source": [
        "---\n",
        "# Pokédex 🗃️​\n",
        "---"
      ],
      "metadata": {
        "id": "S6-o6ymjuGe1"
      }
    },
    {
      "cell_type": "markdown",
      "source": [
        "In questa sezione viene definito il nostro `Database`, distinguendo i Pokémon in varie classi.  \n",
        "Dopodiché, vengono assegnati ad ogni Pokémon le proprie caratteristiche, tra cui anche i percorsi file per richiamare versi e sprite.  \n",
        "Infine, si aggiunge la frequenza media del verso per ciascun mostriciattolo tascabile.\n",
        "\n",
        "\n",
        "\n"
      ],
      "metadata": {
        "id": "qkokJG-C3VsT"
      }
    },
    {
      "cell_type": "code",
      "source": [
        "starters = ['Bulbasaur' , 'Ivysaur' , 'Venusaur',\n",
        "            'Charmander' , 'Charmeleon' , 'Charizard',\n",
        "            'Squirtle' , 'Wartortle' , 'Blastoise',\n",
        "            'Chikorita' , 'Bayleef' , 'Meganium',\n",
        "            'Cyndaquil' , 'Quilava'  ,'Typhlosion',\n",
        "            'Totodile' , 'Croconaw' , 'Feraligatr',\n",
        "            'Treecko' , 'Grovyle' , 'Sceptile',\n",
        "            'Torchic' , 'Combusken' , 'Blaziken',\n",
        "            'Mudkip' , 'Marshtomp' , 'Swampert',\n",
        "            'Turtwig', 'Grotle', 'Torterra',\n",
        "            'Chimchar' , 'Monferno' , 'Infernape',\n",
        "            'Piplup', 'Prinplup' , 'Empoleon',\n",
        "            'Snivy', 'Servine', 'Serperior',\n",
        "            'Tepig' , 'Pignite' , 'Emboar',\n",
        "            'Oshawott' , 'Dewott' , 'Samurott']\n",
        "\n",
        "eevee = ['Vaporeon', 'Jolteon', 'Flareon', 'Espeon', 'Umbreon', 'Leafeon', 'Glaceon']\n",
        "\n",
        "legendary = ['Articuno', 'Zapdos', 'Moltres', 'Mewtwo',\n",
        "             \"Raikou\", \"Entei\", \"Suicune\", 'Lugia','Ho-oh',\n",
        "             'Regirock', 'Regice', 'Registeel', 'Latias', 'Latios', 'Groudon', 'Kyogre', 'Rayquaza',\n",
        "             'Uxie', 'Mesprit', 'Azelf', 'Dialga','Palkia','Giratina', 'Heatran', 'Regigigas', 'Cresselia',\n",
        "             'Cobalion', 'Terrakion', 'Virizion', 'Tornadus', 'Thundurus', 'Landorus', 'Reshiram', 'Zekrom', 'Kyurem']\n",
        "\n",
        "pseudo = ['Dragonite','Dragonair','Dratini',\n",
        "          'Tyranitar','Pupitar','Larvitar',\n",
        "          'Salamence','Shelgon', 'Bagon','Metagross','Metang','Beldum',\n",
        "          'Garchomp','Gabite','Gible',\n",
        "          'Hydreigon','Zweilous','Deino']\n",
        "\n",
        "myth = ['Mew',\n",
        "        'Celebi',\n",
        "        'Deoxys', 'Jirachi',\n",
        "        'Arceus', 'Darkrai', 'Manaphy', 'Phione', 'Shaymin',\n",
        "        'Genesect', 'Keldeo', 'Meloetta', 'Victini']\n",
        "\n",
        "fossil = ['Kabuto' , 'Kabutops', 'Omanyte' , 'Omastar' , 'Aerodactyl',\n",
        "          'Anorith' , 'Armaldo',  'Lileep' , 'Cradily' ,\n",
        "          'Cranidos' , 'Rampardos' , 'Shieldon' , 'Bastiodon' ,\n",
        "          'Tirtouga' , 'Carracosta' , 'Archen' , 'Archeops']"
      ],
      "metadata": {
        "id": "Af9lhlNquJfQ"
      },
      "execution_count": 2,
      "outputs": []
    },
    {
      "cell_type": "code",
      "source": [
        "pkms = {}\n",
        "\n",
        "with open(\"lista_caratteristiche.txt\", encoding=\"utf-8\") as file:\n",
        "    for line in file:\n",
        "        parts = line.strip().split(\",\")\n",
        "        nome = parts[2]\n",
        "        pkms[nome] = {}\n",
        "        pkms[nome]['types'] = [t for t in parts[3:] if t]\n",
        "        if nome in starters:\n",
        "          pkms[nome]['class'] = 'starter'\n",
        "        elif nome in eevee:\n",
        "          pkms[nome]['class'] = 'eeveelution'\n",
        "        elif nome in legendary:\n",
        "          pkms[nome]['class'] = 'legendary'\n",
        "        elif nome in pseudo:\n",
        "          pkms[nome]['class'] = 'pseudo-legendary'\n",
        "        elif nome in myth:\n",
        "          pkms[nome]['class'] = 'mythical'\n",
        "        elif nome in fossil:\n",
        "          pkms[nome]['class'] = 'fossil'\n",
        "        else:\n",
        "          pkms[nome]['class'] = 'common'\n",
        "        pkms[nome]['mass'] = parts[0]\n",
        "        pkms[nome]['sprite'] = \"SpritesPKMN/\" +nome+ \".png\"\n",
        "        pkms[nome]['cry'] = \"CriesPKMN/\" +nome+ \".ogg\"\n",
        "        if len(pkms[nome]['types']) == 1:\n",
        "          tps = pkms[nome]['types'][0]\n",
        "        else:\n",
        "          tps = ' and '.join(pkms[nome]['types'])\n",
        "        pkms[nome]['description'] = tps +' '+ pkms[nome]['class']+ ' Pokémon similar to '+ nome"
      ],
      "metadata": {
        "id": "dkciDUAUu4nB"
      },
      "execution_count": 3,
      "outputs": []
    },
    {
      "cell_type": "code",
      "source": [
        "def Hz(p):\n",
        "  audio, sr = librosa.load(pkms[p]['cry'], sr=None)\n",
        "  spectral_centroid = librosa.feature.spectral_centroid(y=audio, sr=sr)\n",
        "  mean_centroid = np.mean(spectral_centroid)\n",
        "  return round(float(mean_centroid), 2)\n",
        "\n",
        "def Add_Hz(diz):\n",
        "  for x in diz:\n",
        "    diz[x]['freq'] = Hz(x)\n",
        "\n",
        "Add_Hz(pkms)\n",
        "\n",
        "'''\n",
        "Map_F = {'0-1800': 270, '2000-2500': 262, '2500 or more': 117}\n",
        "Queste sono le fasce di frequenze distribuite in modo che la quantità\n",
        "di pokemon nelle fasce sia più o meno simile\n",
        "'''"
      ],
      "metadata": {
        "id": "T1uRYf8Cu9r0"
      },
      "execution_count": null,
      "outputs": []
    },
    {
      "cell_type": "markdown",
      "source": [
        "---\n",
        "#Dataset 📋​\n",
        "---"
      ],
      "metadata": {
        "id": "7P_9av7cvt7s"
      }
    },
    {
      "cell_type": "markdown",
      "source": [
        "Definiamo una classe `Dataset` che consente di gestire in modo unificato sprite, audio, tipi e categorie dei Pokémon.  \n",
        "L'obiettivo di questa cella è quello di fornire un encoding numerico delle informazion testuali e una pipeline di trasformazioni grafiche, rendendoli pronti per la fase di training."
      ],
      "metadata": {
        "id": "C4EMHQUS4XgQ"
      }
    },
    {
      "cell_type": "code",
      "source": [
        "def crop_non_black(img):\n",
        "    bg = Image.new(img.mode, img.size, (0, 0, 0))\n",
        "    diff = ImageChops.difference(img, bg)\n",
        "    bbox = diff.getbbox()\n",
        "    if bbox:\n",
        "        return img.crop(bbox)\n",
        "    return img\n",
        "\n",
        "\n",
        "class PokemonDataset(Dataset):\n",
        "    def __init__(self, data_dict, image_size=(96, 96), root_dir='.', transform=None):  #ATTENZONE 96X96\n",
        "        self.data = []\n",
        "        self.image_size = image_size\n",
        "        self.root_dir = root_dir\n",
        "\n",
        "\n",
        "        self.all_types = sorted({t for v in data_dict.values() for t in v['types']})\n",
        "        unique_classes = sorted({v['class'] for v in data_dict.values()})\n",
        "        self.class_map = {cls_name: i for i, cls_name in enumerate(unique_classes)}\n",
        "\n",
        "\n",
        "        self.type_to_idx = {t: i for i, t in enumerate(self.all_types)}\n",
        "        self.num_types = len(self.all_types)\n",
        "\n",
        "        for name, attrs in data_dict.items():\n",
        "            types = attrs['types']\n",
        "            class_label = attrs['class']\n",
        "            sprite_path = os.path.join(root_dir, attrs['sprite'])\n",
        "            cry_path = os.path.join(root_dir, attrs['cry'])\n",
        "            description = attrs['description']\n",
        "\n",
        "\n",
        "            type_encoding = torch.zeros(self.num_types)\n",
        "            for t in types:\n",
        "                type_encoding[self.type_to_idx[t]] = 1\n",
        "\n",
        "            class_encoding = torch.tensor([self.class_map[class_label]], dtype=torch.long)\n",
        "\n",
        "            self.data.append({\n",
        "                'name': name,\n",
        "                'types': type_encoding,\n",
        "                'class': class_encoding,\n",
        "                'sprite_path': sprite_path,\n",
        "                'cry_path': cry_path,\n",
        "                'description': description})\n",
        "\n",
        "\n",
        "        self.transform = transform or transforms.Compose([\n",
        "            transforms.Resize(image_size),\n",
        "            transforms.ToTensor(),\n",
        "            transforms.Normalize([0.5]*3, [0.5]*3)])\n",
        "\n",
        "    def __len__(self):\n",
        "        return len(self.data)\n",
        "\n",
        "    def __getitem__(self, idx):\n",
        "        entry = self.data[idx]\n",
        "        image = Image.open(entry['sprite_path']).convert(\"RGB\")\n",
        "        image = crop_non_black(image)\n",
        "        image = self.transform(image)\n",
        "\n",
        "\n",
        "        return {\n",
        "            'name': entry['name'],\n",
        "            'sprite': image,\n",
        "            'types': entry['types'],\n",
        "            'class': entry['class'],\n",
        "            'cry_path': entry['cry_path'],\n",
        "            'description': entry['description']}"
      ],
      "metadata": {
        "id": "pCmQBvJjvwxe"
      },
      "execution_count": null,
      "outputs": []
    },
    {
      "cell_type": "code",
      "source": [
        "transform = transforms.Compose([\n",
        "    transforms.Resize((64, 64)),\n",
        "    transforms.ToTensor(),\n",
        "    transforms.Lambda(lambda x: x + 1e-5)])\n",
        "\n",
        "pokemon_root_dir = os.getcwd()\n",
        "\n",
        "pkms_dataset = PokemonDataset(pkms, image_size=(64, 64), root_dir=pokemon_root_dir, transform=transform)\n",
        "\n",
        "#pkms_dataset[82]"
      ],
      "metadata": {
        "id": "Nhxq6K3MwIih"
      },
      "execution_count": null,
      "outputs": []
    },
    {
      "cell_type": "markdown",
      "source": [
        "---\n",
        "#Algoritmo musicale 🎧​ (Luca Montefusco)\n",
        "---"
      ],
      "metadata": {
        "id": "zmgWs08swmxE"
      }
    },
    {
      "cell_type": "markdown",
      "source": [
        "In questa prima cella, grazie alle funzioni `TakeInput` e `SearchPkmn` definiamo una lista di Pokémon che si trovano nel range della frequenza media della canzone.  \n",
        "Successivamente si costruisce un’istanza del dataset pronta per l’utilizzo nei modelli neurali, ovvero: `Variational Autoencoder (VAE)` per la rappresentazione e generazione dei dati, e un `Discriminatore in stile GAN` per introdurre un termine avversario in fase di addestramento.  \n",
        "L’encoder del VAE mappa i dati, il decoder ricostruisce le immagini e il discriminatore valuta la qualità delle ricostruzioni.  \n",
        "Per facilitare il procedimento di allenamento, e per evitare problemi, viene introdotta una funzione di `salvataggio di checkpoints`."
      ],
      "metadata": {
        "id": "d5TyIg2A5Z7E"
      }
    },
    {
      "cell_type": "code",
      "source": [
        "def TakeInput(name: str):\n",
        "  audio, sr = librosa.load('Input/' + name + '.mp3', sr=None)\n",
        "  spectral_centroid = librosa.feature.spectral_centroid(y=audio, sr=sr)\n",
        "  mean_centroid = np.mean(spectral_centroid)\n",
        "  return round(float(mean_centroid), 2)\n",
        "\n",
        "def SearchPkmn(name: str):\n",
        "  Found_pkmn = []\n",
        "  H = TakeInput(name)\n",
        "  for p in pkms:\n",
        "    freq = pkms[p]['freq']\n",
        "    if freq <= H+320 and freq >= H-320:\n",
        "      Found_pkmn.append(p)\n",
        "  return Found_pkmn\n",
        "\n",
        "#SearchPkmn('SbH') #Test usando Super Massive Blackhole"
      ],
      "metadata": {
        "id": "Ajs5sqduyauQ"
      },
      "execution_count": null,
      "outputs": []
    },
    {
      "cell_type": "code",
      "source": [
        "device = torch.device(\"cuda\" if torch.cuda.is_available() else \"cpu\")\n",
        "print(\"Device:\", device)"
      ],
      "metadata": {
        "colab": {
          "base_uri": "https://localhost:8080/"
        },
        "id": "K1IZ0qPkydLd",
        "outputId": "7860855c-e660-455d-e61a-98d9c7263ace"
      },
      "execution_count": null,
      "outputs": [
        {
          "output_type": "stream",
          "name": "stdout",
          "text": [
            "Device: cpu\n"
          ]
        }
      ]
    },
    {
      "cell_type": "code",
      "source": [
        "# 2. VAE (Encoder + Decoder)\n",
        "class Encoder(nn.Module):\n",
        "    def __init__(self, latent_dim=128):\n",
        "        super().__init__()\n",
        "        self.conv = nn.Sequential(\n",
        "            nn.Conv2d(3, 32, 4, 2, 1), nn.LeakyReLU(0.2),\n",
        "            nn.Conv2d(32, 64, 4, 2, 1), nn.BatchNorm2d(64), nn.LeakyReLU(0.2),\n",
        "            nn.Conv2d(64, 128, 4, 2, 1), nn.BatchNorm2d(128), nn.LeakyReLU(0.2),\n",
        "            nn.Conv2d(128, 256, 4, 2, 1), nn.BatchNorm2d(256), nn.LeakyReLU(0.2))\n",
        "\n",
        "        self.fc_mu = nn.Linear(256*4*4, latent_dim)\n",
        "        self.fc_logvar = nn.Linear(256*4*4, latent_dim)\n",
        "\n",
        "    def forward(self, x):\n",
        "        h = self.conv(x).view(x.size(0), -1)\n",
        "        mu = self.fc_mu(h)\n",
        "        logvar = self.fc_logvar(h)\n",
        "        return mu, logvar\n",
        "\n",
        "\n",
        "class Decoder(nn.Module):\n",
        "    def __init__(self, latent_dim=128):\n",
        "        super().__init__()\n",
        "        self.fc = nn.Linear(latent_dim, 256*4*4)\n",
        "        self.deconv = nn.Sequential(\n",
        "            nn.ConvTranspose2d(256, 128, 4, 2, 1), nn.BatchNorm2d(128), nn.ReLU(),\n",
        "            nn.ConvTranspose2d(128, 64, 4, 2, 1), nn.BatchNorm2d(64), nn.ReLU(),\n",
        "            nn.ConvTranspose2d(64, 32, 4, 2, 1), nn.BatchNorm2d(32), nn.ReLU(),\n",
        "            nn.ConvTranspose2d(32, 3, 4, 2, 1), nn.Tanh())\n",
        "\n",
        "\n",
        "    def forward(self, z):\n",
        "        h = self.fc(z).view(z.size(0), 256, 4, 4)\n",
        "        return self.deconv(h)\n",
        "\n",
        "\n",
        "class VAE(nn.Module):\n",
        "    def __init__(self, latent_dim=128):\n",
        "        super().__init__()\n",
        "        self.encoder = Encoder(latent_dim)\n",
        "        self.decoder = Decoder(latent_dim)\n",
        "\n",
        "    def forward(self, x):\n",
        "        mu, logvar = self.encoder(x)\n",
        "        std = torch.exp(0.5 * logvar)\n",
        "        eps = torch.randn_like(std)\n",
        "        z = mu + eps * std\n",
        "        recon = self.decoder(z)\n",
        "        return recon, mu, logvar\n",
        "\n",
        "\n",
        "# 3. Gan\n",
        "class Discriminator(nn.Module):\n",
        "    def __init__(self):\n",
        "        super().__init__()\n",
        "        self.conv = nn.Sequential(\n",
        "            nn.Conv2d(3, 64, 4, 2, 1), nn.LeakyReLU(0.2),\n",
        "            nn.Conv2d(64, 128, 4, 2, 1), nn.BatchNorm2d(128), nn.LeakyReLU(0.2),\n",
        "            nn.Conv2d(128, 256, 4, 2, 1), nn.BatchNorm2d(256), nn.LeakyReLU(0.2),\n",
        "            nn.Conv2d(256, 1, 4, 1, 0))\n",
        "\n",
        "\n",
        "    def forward(self, x):\n",
        "        return self.conv(x).view(-1, 1)"
      ],
      "metadata": {
        "id": "_M9NY8EXyiHV"
      },
      "execution_count": null,
      "outputs": []
    },
    {
      "cell_type": "code",
      "source": [
        "# 4. Loss functions\n",
        "def kld_loss(mu, logvar):\n",
        "    return -0.5 * torch.mean(1 + logvar - mu.pow(2) - logvar.exp())\n",
        "\n",
        "bce = nn.BCELoss()"
      ],
      "metadata": {
        "id": "NcAy6d0zyx4q"
      },
      "execution_count": null,
      "outputs": []
    },
    {
      "cell_type": "code",
      "source": [
        "# 5. DataLoader\n",
        "from torch.utils.data import random_split\n",
        "val_ratio = 0.1  # 10% validation\n",
        "val_size = int(len(pkms_dataset) * val_ratio)\n",
        "train_size = len(pkms_dataset) - val_size\n",
        "\n",
        "train_dataset, val_dataset = random_split(pkms_dataset, [train_size, val_size])\n",
        "\n",
        "loader = DataLoader(\n",
        "    train_dataset,\n",
        "    batch_size=64,\n",
        "    shuffle=True,\n",
        "    drop_last=True,\n",
        "    num_workers=2,\n",
        "    pin_memory=True)\n",
        "\n",
        "val_loader = DataLoader(\n",
        "    val_dataset,\n",
        "    batch_size=64,\n",
        "    shuffle=False,\n",
        "    drop_last=False,\n",
        "    num_workers=2,\n",
        "    pin_memory=True)"
      ],
      "metadata": {
        "id": "GD3hNrTwy3Ce"
      },
      "execution_count": null,
      "outputs": []
    },
    {
      "cell_type": "code",
      "source": [
        "# 6. Init modelli\n",
        "latent_dim = 128\n",
        "vae = VAE(latent_dim).to(device)\n",
        "D = Discriminator().to(device)\n",
        "\n",
        "opt_VAE = torch.optim.Adam(vae.parameters(), lr=2e-4, betas=(0.5, 0.999))\n",
        "opt_D = torch.optim.Adam(D.parameters(), lr=2e-4, betas=(0.5, 0.999))\n",
        "\n",
        "# Cartella per i checkpoint\n",
        "os.makedirs(\"checkpoints\", exist_ok=True)\n",
        "\n",
        "start_epoch = 0"
      ],
      "metadata": {
        "id": "RgxEhAv_y-A4"
      },
      "execution_count": null,
      "outputs": []
    },
    {
      "cell_type": "code",
      "source": [
        "# 7. Carica checkpoint se disponibile\n",
        "ckpt_path = \"checkpoints/pokemon_vae_gan.pth\"\n",
        "reset = False  #True riparte da zero, False mantiene\n",
        "\n",
        "if os.path.exists(ckpt_path) and not reset:\n",
        "    checkpoint = torch.load(ckpt_path, map_location=device)\n",
        "    vae.load_state_dict(checkpoint[\"vae\"])\n",
        "    D.load_state_dict(checkpoint[\"D\"])\n",
        "    opt_VAE.load_state_dict(checkpoint[\"opt_vae\"])\n",
        "    opt_D.load_state_dict(checkpoint[\"opt_D\"])\n",
        "    start_epoch = checkpoint[\"epoch\"] + 1\n",
        "    print(f\"✅ Checkpoint caricato da epoca {start_epoch}\")\n",
        "else:\n",
        "    print(\"⚠️ Nessun checkpoint trovato, si parte da zero\")"
      ],
      "metadata": {
        "colab": {
          "base_uri": "https://localhost:8080/"
        },
        "id": "71LqO2v2zDxK",
        "outputId": "42b1f23e-25b0-4ddb-e2e1-b1816e60ca84"
      },
      "execution_count": null,
      "outputs": [
        {
          "output_type": "stream",
          "name": "stdout",
          "text": [
            "✅ Checkpoint caricato da epoca 320\n"
          ]
        }
      ]
    },
    {
      "cell_type": "code",
      "source": [
        "# 8. Training loop\n",
        "epochs = 320\n",
        "lambda_adv = 0.25   # Livello GAN (provare con altri livelli)\n",
        "beta_kl = 0.1\n",
        "\n",
        "for epoch in range(start_epoch, epochs):\n",
        "    vae.train()\n",
        "    D.train()\n",
        "\n",
        "    for batch in loader:\n",
        "        x = batch['sprite'].to(device)\n",
        "\n",
        "        with torch.no_grad():\n",
        "            recon, mu, logvar = vae(x)\n",
        "\n",
        "        D_real = D(x)\n",
        "        D_fake = D(recon.detach())\n",
        "\n",
        "        loss_D = -torch.mean(torch.log(torch.sigmoid(D_real) + 1e-8) + torch.log(1 - torch.sigmoid(D_fake) + 1e-8))\n",
        "\n",
        "\n",
        "        opt_D.zero_grad()\n",
        "        loss_D.backward()\n",
        "        opt_D.step()\n",
        "\n",
        "        recon, mu, logvar = vae(x)\n",
        "\n",
        "        rec_loss = F.l1_loss(recon, x) + 0.1 * F.mse_loss(recon, x)\n",
        "        kl = kld_loss(mu, logvar)\n",
        "\n",
        "        D_fake = D(recon)\n",
        "        adv_loss = -torch.mean(torch.log(torch.sigmoid(D_fake) + 1e-8))\n",
        "\n",
        "        loss_VAE = rec_loss + beta_kl * kl + lambda_adv * adv_loss\n",
        "\n",
        "        opt_VAE.zero_grad()\n",
        "        loss_VAE.backward()\n",
        "        opt_VAE.step()\n",
        "\n",
        "    # Validation\n",
        "    vae.eval()\n",
        "    val_rec, val_kl = 0.0, 0.0\n",
        "    with torch.no_grad():\n",
        "        for batch in val_loader:\n",
        "            x = batch['sprite'].to(device)\n",
        "            recon, mu, logvar = vae(x)\n",
        "\n",
        "            val_rec += F.l1_loss(recon, x).item()\n",
        "            val_kl  += kld_loss(mu, logvar).item()\n",
        "\n",
        "    val_rec /= len(val_loader)\n",
        "    val_kl  /= len(val_loader)\n",
        "\n",
        "    print(f\"[{epoch+1}/{epochs}] Train_VAE: {loss_VAE.item():.4f} | \"\n",
        "          f\"Train_D: {loss_D.item():.4f} | \"\n",
        "          f\"Val_Rec: {val_rec:.4f} | Val_KL: {val_kl:.4f}\")\n",
        "\n",
        "    # Salvataggio checkpoint ogni 10 epoche\n",
        "    if (epoch+1) % 10 == 0:\n",
        "        torch.save({\n",
        "            \"epoch\": epoch,\n",
        "            \"vae\": vae.state_dict(),\n",
        "            \"D\": D.state_dict(),\n",
        "            \"opt_vae\": opt_VAE.state_dict(),\n",
        "            \"opt_D\": opt_D.state_dict()\n",
        "        }, ckpt_path)\n",
        "        print(f\"💾 Checkpoint salvato all'epoca {epoch+1}\")"
      ],
      "metadata": {
        "id": "4iKQ9hutzhPw"
      },
      "execution_count": null,
      "outputs": []
    },
    {
      "cell_type": "code",
      "source": [
        "# 9. Generazione con musica\n",
        "\n",
        "def generate_grid_from_song(song_id, vae, pkm_db, device, n_show=8):\n",
        "    vae.eval()\n",
        "    found_names = SearchPkmn(song_id)\n",
        "\n",
        "    if not found_names:\n",
        "        print(\"❌ Nessun Pokémon trovato per la canzone\")\n",
        "        return\n",
        "\n",
        "    chosen = random.sample(found_names, min(n_show, len(found_names)))\n",
        "\n",
        "    imgs = []\n",
        "    for name in chosen:\n",
        "        if name not in pkm_db:\n",
        "            continue\n",
        "        sprite_path = pkm_db[name][\"sprite\"]\n",
        "        try:\n",
        "            img = Image.open(sprite_path).convert(\"RGB\")\n",
        "            x = transform(img).unsqueeze(0).to(device)\n",
        "            imgs.append(x)\n",
        "        except Exception as e:\n",
        "            print(f\"Errore nel caricare {name}: {e}\")\n",
        "\n",
        "    if not imgs:\n",
        "        print(\"❌ Nessuna immagine caricata\")\n",
        "        return\n",
        "\n",
        "    x = torch.cat(imgs, dim=0)\n",
        "    with torch.no_grad():\n",
        "        recon, mu, logvar = vae(x)\n",
        "\n",
        "    #grid = make_grid(torch.cat([x, recon]), nrow=len(x), normalize=True, value_range=(-1,1)) # pokemon nuovi e esistenti\n",
        "    grid = make_grid(recon, nrow=len(x), normalize=True, value_range=(-1,1))                  # solo pokemon nuovi\n",
        "\n",
        "    plt.figure(figsize=(4*len(x), 4))\n",
        "    plt.imshow(grid.permute(1,2,0).cpu().numpy())\n",
        "    plt.axis(\"off\")\n",
        "    plt.show()"
      ],
      "metadata": {
        "id": "FGDpvhJ6zznD"
      },
      "execution_count": null,
      "outputs": []
    },
    {
      "cell_type": "markdown",
      "source": [
        "---\n",
        "#Algoritmo testuale 📜​ (Giacomo Tronca)\n",
        "---"
      ],
      "metadata": {
        "id": "N8I5F25g0tXw"
      }
    },
    {
      "cell_type": "markdown",
      "source": [
        "Nella prima parte del codice, a partire dal dataset, viene creato un dizionario che associa ad ogni elemento \"tipo\" e \"classe\" un numero, così da poter creare una rapida rappresentazione di ogni eventuale input: ogni parte del generico prompt testuale, fintanto che accettabile, può essere presa in considerazione e la macchina terrà conto delle immagini abbinate a Pokémon che hanno la determinata caratteristica letta"
      ],
      "metadata": {
        "id": "l_sxjq4BI1gw"
      }
    },
    {
      "cell_type": "code",
      "source": [
        "#Crea un vocabolario basato sulle descrizioni presenti nel dataset\n",
        "#per poi utilizzarle per la generazione di nuove immagini\n",
        "\n",
        "def build_vocab(data_dict):\n",
        "    vocab = {\"<PAD>\": 0, \"<UNK>\": 1}\n",
        "    idx = 2\n",
        "    for entry in data_dict.values():\n",
        "        prompt = f\"{' '.join(entry['types'])} {entry['class']}\".lower()\n",
        "        for word in prompt.split():\n",
        "            if word not in vocab:\n",
        "                vocab[word] = idx\n",
        "                idx += 1\n",
        "    return vocab\n",
        "\n",
        "vocab = build_vocab(pkms)\n",
        "#print(vocab)"
      ],
      "metadata": {
        "id": "nBk5T-dZ03BW"
      },
      "execution_count": null,
      "outputs": []
    },
    {
      "cell_type": "markdown",
      "source": [
        "Successivamente si passa alla definizione del modello. Tramite `PromptToSpriteDataset` ogni descrizione viene tokenizzata in un insieme di numeri secondo lo schema stabilito nel precedente vocabolario"
      ],
      "metadata": {
        "id": "OKx1wA2mK06P"
      }
    },
    {
      "cell_type": "code",
      "source": [
        "class PromptToSpriteDataset(Dataset):\n",
        "    def __init__(self, data_dict, vocab, image_size=(64, 64), root_dir='.', max_len=6, transform=None):\n",
        "        self.samples = []\n",
        "        self.vocab = vocab\n",
        "        self.max_len = max_len\n",
        "        self.transform = transform or transforms.Compose([\n",
        "            transforms.Resize(image_size),\n",
        "            transforms.ToTensor(),\n",
        "            transforms.Normalize([0.5]*3, [0.5]*3)\n",
        "        ])\n",
        "\n",
        "        for entry in data_dict.values():\n",
        "            prompt = entry['description'].split(\" similar to\")[0].lower()\n",
        "            tokens = [vocab.get(tok, vocab[\"<UNK>\"]) for tok in prompt.split()]\n",
        "            tokens = tokens[:max_len] + [vocab[\"<PAD>\"]] * (max_len - len(tokens))\n",
        "\n",
        "            sprite_path = os.path.join(root_dir, entry['sprite'])\n",
        "            self.samples.append((tokens, sprite_path))\n",
        "\n",
        "    def __len__(self):\n",
        "        return len(self.samples)\n",
        "\n",
        "    def __getitem__(self, idx):\n",
        "        tokens, sprite_path = self.samples[idx]\n",
        "        image = Image.open(sprite_path).convert(\"RGB\")\n",
        "        image = self.transform(image)\n",
        "        return torch.tensor(tokens, dtype=torch.long), image"
      ],
      "metadata": {
        "id": "MDw--6ao-z1b"
      },
      "execution_count": null,
      "outputs": []
    },
    {
      "cell_type": "markdown",
      "source": [
        "Viene successivamente definito un encoder, `PromptEncoder`, per i prompt testuali, tramite cui si vettorizzano i token ottenuti in precedenza attraverso `nn.Enbedding`, e poi si definisce `SpriteDecoder` tramite il quale si trasformano gli embeddings ottenuti in immagini RGB. La classe `PromptToSpriteModel` unisce le due cose, per passare direttamente da prompt a immagine"
      ],
      "metadata": {
        "id": "POuFYt6z8cOu"
      }
    },
    {
      "cell_type": "code",
      "source": [
        "class PromptEncoder(nn.Module):\n",
        "    def __init__(self, vocab_size, embed_dim=128):\n",
        "        super().__init__()\n",
        "        self.embedding = nn.Embedding(vocab_size, embed_dim)\n",
        "        self.encoder = nn.GRU(embed_dim, embed_dim, batch_first=True)\n",
        "\n",
        "    def forward(self, tokens):\n",
        "        embedded = self.embedding(tokens)       # [B, T, E]\n",
        "        _, h = self.encoder(embedded)           # h: [1, B, E]\n",
        "        return h.squeeze(0)                     # [B, E]\n",
        "\n",
        "class SpriteDecoder(nn.Module):\n",
        "    def __init__(self, input_dim=128, img_size=64):\n",
        "        super().__init__()\n",
        "        self.init_size = img_size // 8\n",
        "        self.fc = nn.Linear(input_dim, 256 * self.init_size * self.init_size)\n",
        "        self.deconv = nn.Sequential(\n",
        "            nn.BatchNorm2d(256),\n",
        "            nn.Upsample(scale_factor=2),\n",
        "            nn.Conv2d(256, 128, 3, padding=1),\n",
        "            nn.ReLU(True),\n",
        "\n",
        "            nn.Upsample(scale_factor=2),\n",
        "            nn.Conv2d(128, 64, 3, padding=1),\n",
        "            nn.ReLU(True),\n",
        "\n",
        "            nn.Upsample(scale_factor=2),\n",
        "            nn.Conv2d(64, 3, 3, padding=1),\n",
        "            nn.Tanh())\n",
        "\n",
        "    def forward(self, z):\n",
        "        out = self.fc(z)\n",
        "        out = out.view(out.size(0), 256, self.init_size, self.init_size)\n",
        "        return self.deconv(out)\n",
        "\n",
        "class PromptToSpriteModel(nn.Module):\n",
        "    def __init__(self, vocab_size):\n",
        "        super().__init__()\n",
        "        self.encoder = PromptEncoder(vocab_size)\n",
        "        self.decoder = SpriteDecoder()\n",
        "\n",
        "    def forward(self, tokens):\n",
        "        z = self.encoder(tokens)\n",
        "        img = self.decoder(z)\n",
        "        return img"
      ],
      "metadata": {
        "id": "R0nX2ta0-1LI"
      },
      "execution_count": null,
      "outputs": []
    },
    {
      "cell_type": "code",
      "source": [
        "def train_model(model, dataloader, epochs=10, lr=1e-4, device='cuda', checkpoint_path=None, resume=False):\n",
        "    model.to(device)\n",
        "    optimizer = torch.optim.Adam(model.parameters(), lr=lr)\n",
        "    criterion = nn.MSELoss()\n",
        "\n",
        "    start_epoch = 0\n",
        "\n",
        "    # Se resume=True, carica il checkpoint\n",
        "    if resume and checkpoint_path and os.path.exists(checkpoint_path):\n",
        "        print(f\"🔄 Riprendo il training da {checkpoint_path}...\")\n",
        "        checkpoints = torch.load(checkpoint_path, map_location=device)\n",
        "        model.load_state_dict(checkpoints['model_state_dict'])\n",
        "        optimizer.load_state_dict(checkpoints['optimizer_state_dict'])\n",
        "        start_epoch = checkpoints['epoch'] + 1\n",
        "        print(f\"📂 Ripreso da epoca {start_epoch} con loss {checkpoints['loss']:.4f}\")\n",
        "\n",
        "    # Loop di training\n",
        "    for epoch in range(start_epoch, epochs):\n",
        "        model.train()\n",
        "        total_loss = 0.0\n",
        "\n",
        "        print(f\"\\n🧠 Epoch {epoch+1}/{epochs}\")\n",
        "        pbar = tqdm(dataloader, desc=f\"Epoch {epoch+1}\", leave=False)\n",
        "\n",
        "        for tokens, targets in pbar:\n",
        "            tokens = tokens.to(device)\n",
        "            targets = targets.to(device)\n",
        "\n",
        "            preds = model(tokens)\n",
        "            loss = criterion(preds, targets)\n",
        "\n",
        "            optimizer.zero_grad()\n",
        "            loss.backward()\n",
        "            optimizer.step()\n",
        "\n",
        "            total_loss += loss.item()\n",
        "            pbar.set_postfix({\"batch_loss\": loss.item()})\n",
        "\n",
        "        avg_loss = total_loss / len(dataloader)\n",
        "        print(f\"📉 Average loss: {avg_loss:.4f}\")\n",
        "\n",
        "        # Salvataggio checkpoint\n",
        "        if checkpoint_path:\n",
        "            torch.save({\n",
        "                'epoch': epoch,\n",
        "                'model_state_dict': model.state_dict(),\n",
        "                'optimizer_state_dict': optimizer.state_dict(),\n",
        "                'loss': avg_loss\n",
        "            }, checkpoint_path)\n",
        "            print(f\"💾 Checkpoint salvato in {checkpoint_path}\")"
      ],
      "metadata": {
        "id": "_u1uCTUS_Kkn"
      },
      "execution_count": null,
      "outputs": []
    },
    {
      "cell_type": "code",
      "source": [
        "def generate_image_from_prompt(prompt, model, vocab, device='cpu'):\n",
        "    model.eval()\n",
        "    # Tokenizza e trasforma prompt in tensore di indici, con padding fino a 6 token\n",
        "    tokens = [vocab.get(tok, vocab.get(\"<UNK>\", 0)) for tok in prompt.lower().split()]\n",
        "    tokens = tokens[:6] + [vocab.get(\"<PAD>\", 0)] * (6 - len(tokens))\n",
        "    tokens = torch.tensor(tokens).unsqueeze(0).to(device)  # batch 1\n",
        "\n",
        "    with torch.no_grad():\n",
        "        output = model(tokens).squeeze(0).cpu()  # [3, H, W]\n",
        "\n",
        "    output = (output + 1) / 2  # Normalizza da [-1,1] a [0,1]\n",
        "    return output\n",
        "\n",
        "def show_generated_grid(prompts, model, vocab, device='cpu'):\n",
        "    assert len(prompts) == 4, \"Serve una lista di 4 prompt esatti\"\n",
        "    images = []\n",
        "    for prompt in prompts:\n",
        "        img_tensor = generate_image_from_prompt(prompt, model, vocab, device)\n",
        "        pil_img = ToPILImage()(img_tensor)\n",
        "        images.append(pil_img)\n",
        "\n",
        "    fig, axs = plt.subplots(2, 2, figsize=(8,8))\n",
        "    axs = axs.flatten()\n",
        "    for i, img in enumerate(images):\n",
        "        axs[i].imshow(img)\n",
        "        axs[i].axis('off')\n",
        "        axs[i].set_title(prompts[i])\n",
        "    plt.tight_layout()\n",
        "    plt.show()"
      ],
      "metadata": {
        "id": "1HwPpfRP_cey"
      },
      "execution_count": null,
      "outputs": []
    },
    {
      "cell_type": "code",
      "source": [
        "def show_generated(prompt, model, vocab, device='cpu'):\n",
        "    img_tensor = generate_image_from_prompt(prompt, model, vocab, device)\n",
        "    pil_img = ToPILImage()(img_tensor)\n",
        "\n",
        "    plt.figure(figsize=(6,6))\n",
        "    plt.imshow(pil_img)\n",
        "    plt.axis('off')\n",
        "    plt.title(prompt)\n",
        "    plt.show()"
      ],
      "metadata": {
        "id": "8BiMfjiZ_npU"
      },
      "execution_count": null,
      "outputs": []
    },
    {
      "cell_type": "code",
      "source": [
        "device='cuda' if torch.cuda.is_available() else 'cpu'\n",
        "# Dataset\n",
        "dataset = PromptToSpriteDataset(pkms, vocab, root_dir=pokemon_root_dir)\n",
        "dataloader = DataLoader(dataset, batch_size=16, shuffle=True)\n",
        "\n",
        "# Modello\n",
        "model = PromptToSpriteModel(vocab_size=len(vocab))\n",
        "\n",
        "# Training\n",
        "# Primo training\n",
        "#train_model(model, dataloader, epochs=100,device='cuda' if torch.cuda.is_available() else 'cpu', checkpoint_path=\"model_ckpt.pth\")\n",
        "\n",
        "# Continuare da dove si era interrotto\n",
        "train_model(model, dataloader, epochs=500, device='cuda' if torch.cuda.is_available() else 'cpu', checkpoint_path=\"model_ckpt.pth\", resume=True)"
      ],
      "metadata": {
        "id": "ucRJx7UP_oJh"
      },
      "execution_count": null,
      "outputs": []
    },
    {
      "cell_type": "markdown",
      "source": [
        "---\n",
        "#Input 📲\n",
        "---"
      ],
      "metadata": {
        "id": "MZee42Le0MbB"
      }
    },
    {
      "cell_type": "code",
      "source": [
        "# Generazione musicale\n",
        "#Bisogna mettere il nome di una delle canzoni nella cartella del Drive\n",
        "generate_grid_from_song(\"SbH\", vae, pkms, device, n_show=1) # Generazione musicale"
      ],
      "metadata": {
        "id": "3dloORWJ0Wee",
        "colab": {
          "base_uri": "https://localhost:8080/",
          "height": 345
        },
        "outputId": "d726368c-f031-45f5-8295-f734482b91d0"
      },
      "execution_count": null,
      "outputs": [
        {
          "output_type": "display_data",
          "data": {
            "text/plain": [
              "<Figure size 400x400 with 1 Axes>"
            ],
            "image/png": "[encoded data removed]"
          },
          "metadata": {}
        }
      ]
    },
    {
      "cell_type": "code",
      "source": [
        "# Generazione testuale\n",
        "p = \"rock and ground fossil Pokémon\"\n",
        "show_generated(p, model, vocab)"
      ],
      "metadata": {
        "colab": {
          "base_uri": "https://localhost:8080/",
          "height": 807
        },
        "id": "pDbiYQSBABj-",
        "outputId": "0cc047a8-22d9-42a9-9d1c-95bafff0f5eb"
      },
      "execution_count": null,
      "outputs": [
        {
          "output_type": "display_data",
          "data": {
            "text/plain": [
              "<Figure size 800x800 with 4 Axes>"
            ],
            "image/png": "[encoded data removed]"
          },
          "metadata": {}
        }
      ]
    }
  ]
}